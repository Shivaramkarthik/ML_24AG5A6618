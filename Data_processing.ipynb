{
  "nbformat": 4,
  "nbformat_minor": 0,
  "metadata": {
    "colab": {
      "provenance": [],
      "authorship_tag": "ABX9TyNOaR1Ww2pCnMp00wMVaMA3",
      "include_colab_link": true
    },
    "kernelspec": {
      "name": "python3",
      "display_name": "Python 3"
    },
    "language_info": {
      "name": "python"
    }
  },
  "cells": [
    {
      "cell_type": "markdown",
      "metadata": {
        "id": "view-in-github",
        "colab_type": "text"
      },
      "source": [
        "<a href=\"https://colab.research.google.com/github/Shivaramkarthik/ML_24AG5A6618/blob/main/Data_processing.ipynb\" target=\"_parent\"><img src=\"https://colab.research.google.com/assets/colab-badge.svg\" alt=\"Open In Colab\"/></a>"
      ]
    },
    {
      "cell_type": "code",
      "execution_count": 6,
      "metadata": {
        "colab": {
          "base_uri": "https://localhost:8080/"
        },
        "id": "Q6SAX40bSKax",
        "outputId": "ea4ccb88-418f-4221-a4dd-ab3244b69ceb"
      },
      "outputs": [
        {
          "output_type": "stream",
          "name": "stdout",
          "text": [
            "    Name  Age Gender  Marks      City\n",
            "0  Alice   18      f   85.0    london\n",
            "1    Bob   18      m   90.0  new york\n",
            "2  Cathy   19      f   95.0      None\n",
            "3  David   17      m   72.0    sydeny\n",
            "4    Eva   18      f   85.5    london\n"
          ]
        }
      ],
      "source": [
        "import pandas as pd\n",
        "\n",
        "# Create a sample DataFrame since the CSV file was not found\n",
        "data = pd.DataFrame({\n",
        "    'Name': ['Alice', 'Bob', 'Cathy', 'David', 'Eva'],\n",
        "    'Age': [18, 18, 19, 17, 18],\n",
        "    'Gender': ['f', 'm', 'f', 'm', 'f'],\n",
        "    'Marks': [85, 90, 95, 72, 85.5],\n",
        "    'City': ['london', 'new york', None, 'sydeny', 'london']\n",
        "})\n",
        "\n",
        "print(data.head())"
      ]
    },
    {
      "cell_type": "markdown",
      "source": [],
      "metadata": {
        "id": "PTi0LOwjYa1s"
      }
    },
    {
      "cell_type": "code",
      "source": [
        "data.fillna({\n",
        "    'Age':data['Age'].mean(),\n",
        "    'Marks':data['Marks'].mean(),\n",
        "    'City':'Unknown'\n",
        "},inplace=True)\n",
        "print(data)"
      ],
      "metadata": {
        "colab": {
          "base_uri": "https://localhost:8080/"
        },
        "id": "3zlQQSLEcE9d",
        "outputId": "d27a018b-0479-4468-b78a-5bc36e671f85"
      },
      "execution_count": null,
      "outputs": [
        {
          "output_type": "stream",
          "name": "stdout",
          "text": [
            "    Name   Age Gender  Marks      City\n",
            "0  ailce  18.0      f   85.0    london\n",
            "1    bob  18.0      m   90.0  new york\n",
            "2  cathy  19.0      f   95.0   Unknown\n",
            "3  david  17.0      m   72.0    sydeny\n",
            "4    eva  18.0      f   85.5    london\n"
          ]
        }
      ]
    },
    {
      "cell_type": "code",
      "source": [
        "import pandas as pd\n",
        "data={\n",
        "    'Name':['alice','bob','alice'],\n",
        "    'Age':[18,17,18],\n",
        "    'Gender':['F','M','F'],\n",
        "    'Marks':[85,90,85]\n",
        "\n",
        "}\n",
        "df=pd.DataFrame(data)\n",
        "print(\"Original data:\")\n",
        "print(df)\n",
        "df_no_duplicates=df.drop_duplicates()\n",
        "print(\"\\nData after removing duplicates:\")\n",
        "print(df_no_duplicates)"
      ],
      "metadata": {
        "colab": {
          "base_uri": "https://localhost:8080/"
        },
        "id": "jUozdvgRgj7W",
        "outputId": "de4d43e6-9deb-4836-d9c0-c03f7c9e6e80"
      },
      "execution_count": null,
      "outputs": [
        {
          "output_type": "stream",
          "name": "stdout",
          "text": [
            "Original data:\n",
            "    Name  Age Gender  Marks\n",
            "0  alice   18      F     85\n",
            "1    bob   17      M     90\n",
            "2  alice   18      F     85\n",
            "\n",
            "Data after removing duplicates:\n",
            "    Name  Age Gender  Marks\n",
            "0  alice   18      F     85\n",
            "1    bob   17      M     90\n"
          ]
        }
      ]
    },
    {
      "cell_type": "markdown",
      "source": [
        "checking the datatype"
      ],
      "metadata": {
        "id": "zRv3X2XsYGc8"
      }
    },
    {
      "cell_type": "code",
      "source": [
        "import pandas as pd\n",
        "df = pd.DataFrame({\n",
        "    'Name': ['Alice', 'john'],\n",
        "    'Age': [25, 30],\n",
        "    'Salary': [50000, 55000]\n",
        "})\n",
        "print(df.dtypes)\n"
      ],
      "metadata": {
        "colab": {
          "base_uri": "https://localhost:8080/"
        },
        "id": "9E1Hl6cVYOLb",
        "outputId": "69b01a83-e8fc-4ac4-dc16-3192563a1856"
      },
      "execution_count": null,
      "outputs": [
        {
          "output_type": "stream",
          "name": "stdout",
          "text": [
            "Name      object\n",
            "Age        int64\n",
            "Salary     int64\n",
            "dtype: object\n"
          ]
        }
      ]
    },
    {
      "cell_type": "markdown",
      "source": [
        "**using astype()**\n",
        "convert the specific columns to desired types"
      ],
      "metadata": {
        "id": "2vVxhjFLbJLN"
      }
    },
    {
      "cell_type": "code",
      "source": [
        "df['Age']=df['Age'].astype(int)\n",
        "df['Salary']=df['Salary'].astype(float)\n",
        "print(df.dtypes)"
      ],
      "metadata": {
        "colab": {
          "base_uri": "https://localhost:8080/"
        },
        "id": "J9DLHMeraEtt",
        "outputId": "648d543a-b7b4-4d09-8431-8ea8816bc4e7"
      },
      "execution_count": null,
      "outputs": [
        {
          "output_type": "stream",
          "name": "stdout",
          "text": [
            "Name       object\n",
            "Age         int64\n",
            "Salary    float64\n",
            "dtype: object\n"
          ]
        }
      ]
    },
    {
      "cell_type": "markdown",
      "source": [
        "using pd to numeric handle(error)"
      ],
      "metadata": {
        "id": "av6qpFbDc5nV"
      }
    },
    {
      "cell_type": "code",
      "source": [
        "df['Age']=pd.to_numeric(df['Age'],errors='coerce')\n",
        "df['Salary']=pd.to_numeric(df['Salary'],errors='coerce')\n",
        "print(df.dtypes)"
      ],
      "metadata": {
        "colab": {
          "base_uri": "https://localhost:8080/"
        },
        "id": "L-T2mlT5bOOc",
        "outputId": "feac48f8-f9a4-4727-e7c7-3fffffabfe6c"
      },
      "execution_count": null,
      "outputs": [
        {
          "output_type": "stream",
          "name": "stdout",
          "text": [
            "Name       object\n",
            "Age         int64\n",
            "Salary    float64\n",
            "dtype: object\n"
          ]
        }
      ]
    },
    {
      "cell_type": "code",
      "source": [
        "import pandas  as pd\n",
        "data['Gender']=data['Gender'].map({'M':0,'F':1})\n",
        "print(data)"
      ],
      "metadata": {
        "colab": {
          "base_uri": "https://localhost:8080/"
        },
        "id": "YW0TJuTAebhC",
        "outputId": "1c02cbf5-73b5-4272-f7ac-ad2078c9c21b"
      },
      "execution_count": 7,
      "outputs": [
        {
          "output_type": "stream",
          "name": "stdout",
          "text": [
            "    Name  Age  Gender  Marks      City\n",
            "0  Alice   18     NaN   85.0    london\n",
            "1    Bob   18     NaN   90.0  new york\n",
            "2  Cathy   19     NaN   95.0      None\n",
            "3  David   17     NaN   72.0    sydeny\n",
            "4    Eva   18     NaN   85.5    london\n"
          ]
        }
      ]
    },
    {
      "cell_type": "code",
      "metadata": {
        "colab": {
          "base_uri": "https://localhost:8080/"
        },
        "id": "d299d886",
        "outputId": "7b828bd2-6d27-474a-ac63-1a1ae1bf9835"
      },
      "source": [
        "import os\n",
        "print(os.listdir('/content/sample_data/'))"
      ],
      "execution_count": null,
      "outputs": [
        {
          "output_type": "stream",
          "name": "stdout",
          "text": [
            "['README.md', 'anscombe.json', 'california_housing_train.csv', 'california_housing_test.csv', 'mnist_train_small.csv', 'mnist_test.csv']\n"
          ]
        }
      ]
    }
  ]
}
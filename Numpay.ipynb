{
  "nbformat": 4,
  "nbformat_minor": 0,
  "metadata": {
    "colab": {
      "provenance": [],
      "authorship_tag": "ABX9TyPNg0GzMcIAfSFhmFMnosfE",
      "include_colab_link": true
    },
    "kernelspec": {
      "name": "python3",
      "display_name": "Python 3"
    },
    "language_info": {
      "name": "python"
    }
  },
  "cells": [
    {
      "cell_type": "markdown",
      "metadata": {
        "id": "view-in-github",
        "colab_type": "text"
      },
      "source": [
        "<a href=\"https://colab.research.google.com/github/Shivaramkarthik/ML_24AG5A6618/blob/main/Numpay.ipynb\" target=\"_parent\"><img src=\"https://colab.research.google.com/assets/colab-badge.svg\" alt=\"Open In Colab\"/></a>"
      ]
    },
    {
      "cell_type": "markdown",
      "source": [
        "1 d array"
      ],
      "metadata": {
        "id": "18jlIde1C9-F"
      }
    },
    {
      "cell_type": "code",
      "source": [
        "import numpy as np"
      ],
      "metadata": {
        "id": "B5rwzrO1EVD_"
      },
      "execution_count": 1,
      "outputs": []
    },
    {
      "cell_type": "code",
      "execution_count": 33,
      "metadata": {
        "id": "e4trEQ0VC4lF"
      },
      "outputs": [],
      "source": [
        "array1=[1,3,6,8,4]"
      ]
    },
    {
      "cell_type": "code",
      "source": [
        "array2=[5,4,7,4,8,9,10]"
      ],
      "metadata": {
        "id": "wTxzaEg8Eii6"
      },
      "execution_count": 3,
      "outputs": []
    },
    {
      "cell_type": "code",
      "source": [
        "array3=[7,8,3,9,3]"
      ],
      "metadata": {
        "id": "Ih-3qkkWEtR3"
      },
      "execution_count": 5,
      "outputs": []
    },
    {
      "cell_type": "code",
      "source": [
        "print(array1)\n",
        "print(array3)\n",
        "print(array2)"
      ],
      "metadata": {
        "colab": {
          "base_uri": "https://localhost:8080/"
        },
        "id": "5WZdjFRcE9cN",
        "outputId": "3ab80e3c-203e-4f0a-fd8c-033ca81559df"
      },
      "execution_count": 32,
      "outputs": [
        {
          "output_type": "stream",
          "name": "stdout",
          "text": [
            "[ 6  7  8 10 13]\n",
            "[7, 8, 3, 9, 3]\n",
            "[ 6  7  8 10 13]\n"
          ]
        }
      ]
    },
    {
      "cell_type": "code",
      "source": [
        "array2D=[\n",
        "    [1,3,4],\n",
        "    [4,3,2],\n",
        "    [5,46,7],\n",
        "]\n",
        "print(array2D[2][1])\n",
        ""
      ],
      "metadata": {
        "colab": {
          "base_uri": "https://localhost:8080/"
        },
        "id": "yr8LvWYjGqi6",
        "outputId": "f0b3752a-06d7-4742-e458-8d126139f5af"
      },
      "execution_count": 34,
      "outputs": [
        {
          "output_type": "stream",
          "name": "stdout",
          "text": [
            "46\n"
          ]
        }
      ]
    },
    {
      "cell_type": "code",
      "source": [
        "array3D=  [\n",
        "    [\n",
        "        [1,5,7],\n",
        "        [3,5,7]\n",
        "        ],\n",
        "        [\n",
        "            [2,4,6],\n",
        "            [4,6,7]\n",
        "        ]\n",
        "]\n",
        "print(array3D[0][1][2])"
      ],
      "metadata": {
        "colab": {
          "base_uri": "https://localhost:8080/"
        },
        "id": "wepr2fsYIOgM",
        "outputId": "c2d9b6a1-b7ef-4a5d-d843-1c1d846cc697"
      },
      "execution_count": 35,
      "outputs": [
        {
          "output_type": "stream",
          "name": "stdout",
          "text": [
            "7\n"
          ]
        }
      ]
    },
    {
      "cell_type": "code",
      "source": [
        "array1 = np.array([1, 4, 6])\n",
        "print(array1.dtype)"
      ],
      "metadata": {
        "colab": {
          "base_uri": "https://localhost:8080/"
        },
        "id": "J67Hui5uLvy9",
        "outputId": "35a11613-26af-40f4-ea44-e8d0c92a0cea"
      },
      "execution_count": 36,
      "outputs": [
        {
          "output_type": "stream",
          "name": "stdout",
          "text": [
            "int64\n"
          ]
        }
      ]
    },
    {
      "cell_type": "code",
      "source": [
        "array3D=  [\n",
        "    [\n",
        "        [1,5,7],\n",
        "        [3,5,7]\n",
        "        ],\n",
        "        [\n",
        "            [2,4,6],\n",
        "            [4,6,7]\n",
        "        ]\n",
        "]\n",
        "print(array3D)"
      ],
      "metadata": {
        "colab": {
          "base_uri": "https://localhost:8080/"
        },
        "id": "VutdxoEEMCBn",
        "outputId": "6466f1b1-ed7c-4557-dede-8cafd15e2522"
      },
      "execution_count": 18,
      "outputs": [
        {
          "output_type": "stream",
          "name": "stdout",
          "text": [
            "[[[1, 5, 7], [3, 5, 7]], [[2, 4, 6], [4, 6, 7]]]\n"
          ]
        }
      ]
    },
    {
      "cell_type": "code",
      "source": [
        "array1 = np.array(array1)\n",
        "print(array1.size)"
      ],
      "metadata": {
        "colab": {
          "base_uri": "https://localhost:8080/"
        },
        "id": "8pry6IWsMMM0",
        "outputId": "c13ddc9b-6951-4d3b-8f75-3658681b7d96"
      },
      "execution_count": 29,
      "outputs": [
        {
          "output_type": "stream",
          "name": "stdout",
          "text": [
            "5\n"
          ]
        }
      ]
    },
    {
      "cell_type": "code",
      "source": [
        "array1 = np.array([[1, 2, 3],\n",
        "                [6, 7, 8]])\n",
        "print(array1.shape)"
      ],
      "metadata": {
        "colab": {
          "base_uri": "https://localhost:8080/"
        },
        "id": "jw7zgKFtM-IR",
        "outputId": "f0d83503-e5a2-41e1-ccc7-63d3f701d476"
      },
      "execution_count": 30,
      "outputs": [
        {
          "output_type": "stream",
          "name": "stdout",
          "text": [
            "(2, 3)\n"
          ]
        }
      ]
    },
    {
      "cell_type": "code",
      "source": [
        "array1 = np.array([6, 7, 8, 10, 13])\n",
        "array2 = np.array([6, 7, 8, 10, 13], dtype=np.int32)\n",
        "print(array1.itemsize)\n",
        "print(array2.itemsize)"
      ],
      "metadata": {
        "colab": {
          "base_uri": "https://localhost:8080/"
        },
        "id": "PnjOy9TFNRJl",
        "outputId": "2e47689c-415f-4a26-bbbf-72c9291cc1b6"
      },
      "execution_count": 31,
      "outputs": [
        {
          "output_type": "stream",
          "name": "stdout",
          "text": [
            "8\n",
            "4\n"
          ]
        }
      ]
    },
    {
      "cell_type": "code",
      "source": [
        "array1 = np.array([6, 7, 8])\n",
        "array2 = np.array([[1, 2, 3],\n",
        "                   \t    [6, 7, 8]])\n",
        "print(\"\\nData of array1 is: \",array1.data)\n",
        "print(\"Data of array2 is: \",array2.data)"
      ],
      "metadata": {
        "colab": {
          "base_uri": "https://localhost:8080/"
        },
        "id": "xDM-V848NgwK",
        "outputId": "3198f4ad-83bb-4f51-ba7d-26748da92029"
      },
      "execution_count": 37,
      "outputs": [
        {
          "output_type": "stream",
          "name": "stdout",
          "text": [
            "\n",
            "Data of array1 is:  <memory at 0x7c98d6163880>\n",
            "Data of array2 is:  <memory at 0x7c98d5f90c70>\n"
          ]
        }
      ]
    },
    {
      "cell_type": "code",
      "source": [
        "print(array1.ndim)"
      ],
      "metadata": {
        "colab": {
          "base_uri": "https://localhost:8080/"
        },
        "id": "9p59au5tOQym",
        "outputId": "72dd2116-c828-4d23-da5b-fe6bbbc0c2e7"
      },
      "execution_count": 38,
      "outputs": [
        {
          "output_type": "stream",
          "name": "stdout",
          "text": [
            "1\n"
          ]
        }
      ]
    },
    {
      "cell_type": "code",
      "source": [
        "print(array1.size)"
      ],
      "metadata": {
        "colab": {
          "base_uri": "https://localhost:8080/"
        },
        "id": "-Kr9fMNfOefH",
        "outputId": "781d1fd5-4306-4319-f5ff-b1aa5a9039b4"
      },
      "execution_count": 39,
      "outputs": [
        {
          "output_type": "stream",
          "name": "stdout",
          "text": [
            "3\n"
          ]
        }
      ]
    },
    {
      "cell_type": "code",
      "source": [
        "array1 = np.array([1, 3, 5, 7, 9])\n",
        "print(array1[0])\n",
        "print(array1[2])\n",
        "print(array1[4])"
      ],
      "metadata": {
        "colab": {
          "base_uri": "https://localhost:8080/"
        },
        "id": "stIQng_IOrXS",
        "outputId": "0eab4141-75e7-4a2d-8014-c2a8bd9044b8"
      },
      "execution_count": 40,
      "outputs": [
        {
          "output_type": "stream",
          "name": "stdout",
          "text": [
            "1\n",
            "5\n",
            "9\n"
          ]
        }
      ]
    },
    {
      "cell_type": "code",
      "source": [
        "array1[1]=10\n",
        "print(array1)"
      ],
      "metadata": {
        "colab": {
          "base_uri": "https://localhost:8080/"
        },
        "id": "x0xJoTTcOw9T",
        "outputId": "3d24d59d-99bc-4dae-c4a1-36ebcd926aec"
      },
      "execution_count": 41,
      "outputs": [
        {
          "output_type": "stream",
          "name": "stdout",
          "text": [
            "[ 1 10  5  7  9]\n"
          ]
        }
      ]
    },
    {
      "cell_type": "code",
      "source": [
        "array1 = np.array([[1, 3, 5, 7],\n",
        "                       [9, 11, 13, 15],\n",
        "                       [2, 4, 6, 8]])\n",
        "element1 = array1[1, 3]\n",
        "print(\"4th Element at 2nd Row:\",element1)\n",
        "element2 = array1[0, 1]\n",
        "print(\"2nd Element at First Row:\",element2)"
      ],
      "metadata": {
        "colab": {
          "base_uri": "https://localhost:8080/"
        },
        "id": "26Webf2xO1Ig",
        "outputId": "cedf7188-7cfd-4542-ce50-44f78b3cc7d6"
      },
      "execution_count": 42,
      "outputs": [
        {
          "output_type": "stream",
          "name": "stdout",
          "text": [
            "4th Element at 2nd Row: 15\n",
            "2nd Element at First Row: 3\n"
          ]
        }
      ]
    },
    {
      "cell_type": "code",
      "source": [
        "array1 = np.array([1, 2, 3, 4, 5])\n",
        "median = np.median(array1)\n",
        "print(median)"
      ],
      "metadata": {
        "colab": {
          "base_uri": "https://localhost:8080/"
        },
        "id": "5k0ZPtqkPLH8",
        "outputId": "f52b3783-3b35-48b9-fd68-ce3d728b315b"
      },
      "execution_count": 43,
      "outputs": [
        {
          "output_type": "stream",
          "name": "stdout",
          "text": [
            "3.0\n"
          ]
        }
      ]
    },
    {
      "cell_type": "code",
      "source": [
        "marks = np.array([76, 78, 81, 66, 85])\n",
        "mean_marks = np.mean(marks)\n",
        "print(mean_marks)"
      ],
      "metadata": {
        "colab": {
          "base_uri": "https://localhost:8080/"
        },
        "id": "9XG_UNm5PYMa",
        "outputId": "cf882347-3aa1-4fa1-e157-9321b2919968"
      },
      "execution_count": 44,
      "outputs": [
        {
          "output_type": "stream",
          "name": "stdout",
          "text": [
            "77.2\n"
          ]
        }
      ]
    },
    {
      "cell_type": "code",
      "source": [
        "marks = np.array([76, 78, 81, 66, 85])\n",
        "std_marks = np.std(marks)\n",
        "print(std_marks)"
      ],
      "metadata": {
        "colab": {
          "base_uri": "https://localhost:8080/"
        },
        "id": "4sPjhbhoPeSL",
        "outputId": "cd205acc-467a-43b4-9a55-e15999ad7620"
      },
      "execution_count": 45,
      "outputs": [
        {
          "output_type": "stream",
          "name": "stdout",
          "text": [
            "6.368673331236263\n"
          ]
        }
      ]
    },
    {
      "cell_type": "code",
      "source": [
        "marks = np.array([76, 78, 81, 66, 85])\n",
        "std_marks = np.percentile(marks,50)\n",
        "print(std_marks)\n",
        ""
      ],
      "metadata": {
        "colab": {
          "base_uri": "https://localhost:8080/"
        },
        "id": "haw6VJ45PtGF",
        "outputId": "efb4d9db-d115-42f3-ccb9-a4b3ad3c9abc"
      },
      "execution_count": 46,
      "outputs": [
        {
          "output_type": "stream",
          "name": "stdout",
          "text": [
            "78.0\n"
          ]
        }
      ]
    },
    {
      "cell_type": "code",
      "source": [
        "marks = np.array([76, 78, 81, 66, 85])\n",
        "std_marks = np.min(marks)\n",
        "print(std_marks)\n",
        ""
      ],
      "metadata": {
        "colab": {
          "base_uri": "https://localhost:8080/"
        },
        "id": "UILA1lmyP8PB",
        "outputId": "67963e4e-3af8-4310-e55a-202a043a63ff"
      },
      "execution_count": 47,
      "outputs": [
        {
          "output_type": "stream",
          "name": "stdout",
          "text": [
            "66\n"
          ]
        }
      ]
    },
    {
      "cell_type": "code",
      "source": [
        "marks = np.array([76, 78, 81, 66, 85])\n",
        "std_marks = np.max(marks)\n",
        "print(std_marks)"
      ],
      "metadata": {
        "colab": {
          "base_uri": "https://localhost:8080/"
        },
        "id": "zN79dlEiP9Xs",
        "outputId": "505b4973-00ec-4d25-e159-e5f87c8d05f9"
      },
      "execution_count": 48,
      "outputs": [
        {
          "output_type": "stream",
          "name": "stdout",
          "text": [
            "85\n"
          ]
        }
      ]
    }
  ]
}